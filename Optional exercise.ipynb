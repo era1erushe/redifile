{
 "cells": [
  {
   "cell_type": "code",
   "execution_count": 22,
   "metadata": {
    "collapsed": true
   },
   "outputs": [],
   "source": [
    "def absolute(x):\n",
    "    abs_number = abs(x)\n",
    "    return abs_number"
   ]
  },
  {
   "cell_type": "code",
   "execution_count": 23,
   "metadata": {
    "collapsed": true
   },
   "outputs": [],
   "source": [
    "def summation(a):\n",
    "    sum_number = sum(a)\n",
    "    return sum_number"
   ]
  },
  {
   "cell_type": "code",
   "execution_count": 24,
   "metadata": {},
   "outputs": [
    {
     "name": "stdout",
     "output_type": "stream",
     "text": [
      "5\n",
      "240\n"
     ]
    }
   ],
   "source": [
    "numbers = [1, 5, 11, 26, 8, 105, 84]\n",
    "absolute(-5)\n",
    "print(absolute(-5))\n",
    "summation(numbers)\n",
    "print(summation(numbers))"
   ]
  },
  {
   "cell_type": "code",
   "execution_count": 25,
   "metadata": {},
   "outputs": [
    {
     "data": {
      "text/plain": [
       "'E:\\\\TUM\\\\MSc. Math\\\\Semestri I\\\\Python kurs\\\\Project'"
      ]
     },
     "execution_count": 25,
     "metadata": {},
     "output_type": "execute_result"
    }
   ],
   "source": [
    "pwd"
   ]
  },
  {
   "cell_type": "code",
   "execution_count": 27,
   "metadata": {},
   "outputs": [
    {
     "name": "stderr",
     "output_type": "stream",
     "text": [
      "Cloning into 'redifile-Ex-A1-A2-B1'...\n"
     ]
    }
   ],
   "source": [
    "!git clone https://github.com/era1erushe/redifile-Ex-A1-A2-B1.git"
   ]
  },
  {
   "cell_type": "code",
   "execution_count": 29,
   "metadata": {},
   "outputs": [
    {
     "name": "stdout",
     "output_type": "stream",
     "text": [
      "Initialized empty Git repository in E:/TUM/MSc. Math/Semestri I/Python kurs/Project/.git/\n"
     ]
    }
   ],
   "source": [
    "!git init"
   ]
  },
  {
   "cell_type": "code",
   "execution_count": 30,
   "metadata": {},
   "outputs": [
    {
     "name": "stdout",
     "output_type": "stream",
     "text": [
      "On branch master\n",
      "\n",
      "No commits yet\n",
      "\n",
      "Untracked files:\n",
      "  (use \"git add <file>...\" to include in what will be committed)\n",
      "\n",
      "\t.ipynb_checkpoints/\n",
      "\tColab/\n",
      "\tFinal Presentation.pptx\n",
      "\tFinal Project - Data science-checkpoint.ipynb\n",
      "\tFinal Projects.xlsx\n",
      "\tOptional exercise.ipynb\n",
      "\tSYB60_312_Carbon Dioxide Emission Estimates.csv\n",
      "\tUntitled-Copy1.ipynb\n",
      "\tredifile-Ex-A1-A2-B1/\n",
      "\n",
      "nothing added to commit but untracked files present (use \"git add\" to track)\n"
     ]
    }
   ],
   "source": [
    "!git status"
   ]
  },
  {
   "cell_type": "code",
   "execution_count": 32,
   "metadata": {},
   "outputs": [
    {
     "name": "stderr",
     "output_type": "stream",
     "text": [
      "warning: LF will be replaced by CRLF in .ipynb_checkpoints/Optional exercise-checkpoint.ipynb.\n",
      "The file will have its original line endings in your working directory\n",
      "warning: LF will be replaced by CRLF in .ipynb_checkpoints/Untitled-Copy1-checkpoint.ipynb.\n",
      "The file will have its original line endings in your working directory\n",
      "warning: adding embedded git repository: Colab\n",
      "hint: You've added another git repository inside your current repository.\n",
      "hint: Clones of the outer repository will not contain the contents of\n",
      "hint: the embedded repository and will not know how to obtain it.\n",
      "hint: If you meant to add a submodule, use:\n",
      "hint: \n",
      "hint: \tgit submodule add <url> Colab\n",
      "hint: \n",
      "hint: If you added this path by mistake, you can remove it from the\n",
      "hint: index with:\n",
      "hint: \n",
      "hint: \tgit rm --cached Colab\n",
      "hint: \n",
      "hint: See \"git help submodule\" for more information.\n",
      "warning: LF will be replaced by CRLF in Final Project - Data science-checkpoint.ipynb.\n",
      "The file will have its original line endings in your working directory\n",
      "warning: LF will be replaced by CRLF in Optional exercise.ipynb.\n",
      "The file will have its original line endings in your working directory\n",
      "warning: LF will be replaced by CRLF in Untitled-Copy1.ipynb.\n",
      "The file will have its original line endings in your working directory\n",
      "warning: adding embedded git repository: redifile-Ex-A1-A2-B1\n"
     ]
    }
   ],
   "source": [
    "!git add -A"
   ]
  },
  {
   "cell_type": "code",
   "execution_count": 33,
   "metadata": {},
   "outputs": [
    {
     "name": "stdout",
     "output_type": "stream",
     "text": [
      "[master (root-commit) e733c67] I don't know what I am doing\n",
      " 10 files changed, 3775 insertions(+)\n",
      " create mode 100644 .ipynb_checkpoints/Optional exercise-checkpoint.ipynb\n",
      " create mode 100644 .ipynb_checkpoints/Untitled-Copy1-checkpoint.ipynb\n",
      " create mode 160000 Colab\n",
      " create mode 100644 Final Presentation.pptx\n",
      " create mode 100644 Final Project - Data science-checkpoint.ipynb\n",
      " create mode 100644 Final Projects.xlsx\n",
      " create mode 100644 Optional exercise.ipynb\n",
      " create mode 100644 SYB60_312_Carbon Dioxide Emission Estimates.csv\n",
      " create mode 100644 Untitled-Copy1.ipynb\n",
      " create mode 160000 redifile-Ex-A1-A2-B1\n"
     ]
    }
   ],
   "source": [
    "!git commit -m \"I don't know what I am doing\""
   ]
  },
  {
   "cell_type": "code",
   "execution_count": 34,
   "metadata": {},
   "outputs": [
    {
     "name": "stderr",
     "output_type": "stream",
     "text": [
      "fatal: 'origin' does not appear to be a git repository\n",
      "fatal: Could not read from remote repository.\n",
      "\n",
      "Please make sure you have the correct access rights\n",
      "and the repository exists.\n"
     ]
    }
   ],
   "source": [
    "!git pull origin master"
   ]
  },
  {
   "cell_type": "code",
   "execution_count": null,
   "metadata": {
    "collapsed": true
   },
   "outputs": [],
   "source": []
  }
 ],
 "metadata": {
  "kernelspec": {
   "display_name": "Python 3",
   "language": "python",
   "name": "python3"
  },
  "language_info": {
   "codemirror_mode": {
    "name": "ipython",
    "version": 3
   },
   "file_extension": ".py",
   "mimetype": "text/x-python",
   "name": "python",
   "nbconvert_exporter": "python",
   "pygments_lexer": "ipython3",
   "version": "3.6.0"
  }
 },
 "nbformat": 4,
 "nbformat_minor": 2
}
