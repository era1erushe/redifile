{
  "nbformat": 4,
  "nbformat_minor": 0,
  "metadata": {
    "colab": {
      "name": "notebook created on colab.ipynb",
      "provenance": [],
      "collapsed_sections": [],
      "authorship_tag": "ABX9TyNF+pZ3MY2954M60k2RlQgD",
      "include_colab_link": true
    },
    "kernelspec": {
      "name": "python3",
      "display_name": "Python 3"
    }
  },
  "cells": [
    {
      "cell_type": "markdown",
      "metadata": {
        "id": "view-in-github",
        "colab_type": "text"
      },
      "source": [
        "<a href=\"https://colab.research.google.com/github/era1erushe/redifile/blob/master/notebook_created_on_colab.ipynb\" target=\"_parent\"><img src=\"https://colab.research.google.com/assets/colab-badge.svg\" alt=\"Open In Colab\"/></a>"
      ]
    },
    {
      "cell_type": "markdown",
      "metadata": {
        "id": "d-XFmDowaGem",
        "colab_type": "text"
      },
      "source": [
        "# **This is an example notebook for github**"
      ]
    },
    {
      "cell_type": "code",
      "metadata": {
        "id": "3vfz113JaXhD",
        "colab_type": "code",
        "colab": {
          "base_uri": "https://localhost:8080/",
          "height": 34
        },
        "outputId": "b28042d0-5985-47ae-b2b6-ad4aec3d8097"
      },
      "source": [
        "print('Welcome! Please practice for github!')"
      ],
      "execution_count": 1,
      "outputs": [
        {
          "output_type": "stream",
          "text": [
            "Welcome! Please practice for github!\n"
          ],
          "name": "stdout"
        }
      ]
    },
    {
      "cell_type": "markdown",
      "metadata": {
        "id": "yw76LH0CcXXA",
        "colab_type": "text"
      },
      "source": [
        "Adding more codes:"
      ]
    },
    {
      "cell_type": "code",
      "metadata": {
        "id": "zCsaUc45ccjb",
        "colab_type": "code",
        "colab": {
          "base_uri": "https://localhost:8080/",
          "height": 34
        },
        "outputId": "4288e06e-0b1f-4cd4-e3cc-4bd963b4e5ae"
      },
      "source": [
        "print(\"Make some changes and see if it appears again in github.\")"
      ],
      "execution_count": 3,
      "outputs": [
        {
          "output_type": "stream",
          "text": [
            "Make some changes and see if it appears again in github.\n"
          ],
          "name": "stdout"
        }
      ]
    }
  ]
}